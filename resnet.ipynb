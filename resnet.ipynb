{
 "cells": [
  {
   "cell_type": "code",
   "execution_count": 1,
   "id": "d1f27d84",
   "metadata": {},
   "outputs": [],
   "source": [
    "# Common\n",
    "import os\n",
    "import keras \n",
    "import numpy as np\n",
    "\n",
    "# Data\n",
    "from keras.preprocessing.image import ImageDataGenerator as IDG\n",
    "\n",
    "# Data Viz\n",
    "import seaborn as sns\n",
    "import matplotlib.pyplot as plt\n",
    "\n",
    "# Pre-Trained Models\n",
    "from tensorflow.keras.applications import InceptionV3, Xception, ResNet152V2, ResNet50V2, ResNet50\n",
    "\n",
    "# Model\n",
    "from keras.models import Sequential, load_model\n",
    "from keras.layers import GlobalAvgPool2D as GAP, Dense, Dropout, Conv2D, MaxPool2D, BatchNormalization, Layer, ReLU, Add, InputLayer, Multiply\n",
    "\n",
    "# Callbacks \n",
    "from keras.callbacks import EarlyStopping, ModelCheckpoint\n",
    "\n",
    "# Model viz\n"
   ]
  },
  {
   "cell_type": "code",
   "execution_count": 2,
   "id": "0ff8284f",
   "metadata": {},
   "outputs": [
    {
     "name": "stdout",
     "output_type": "stream",
     "text": [
      "Found 5493 images belonging to 11 classes.\n",
      "Found 1369 images belonging to 11 classes.\n"
     ]
    }
   ],
   "source": [
    "# Initialize DataGenerator\n",
    "train_gen = IDG(rescale=1./255, horizontal_flip=True, rotation_range=45, validation_split=0.2)\n",
    "\n",
    "# Load Data\n",
    "train_ds = train_gen.flow_from_directory(\"dataset\", target_size=(256,256), class_mode=\"categorical\", subset='training', shuffle=True, batch_size=32)\n",
    "valid_ds = train_gen.flow_from_directory(\"dataset\", target_size=(256,256), class_mode=\"categorical\", subset='validation', shuffle=True, batch_size=32)\n",
    "\n"
   ]
  },
  {
   "cell_type": "code",
   "execution_count": 3,
   "id": "d3179b8c",
   "metadata": {},
   "outputs": [
    {
     "name": "stdout",
     "output_type": "stream",
     "text": [
      "Total No. of Classes : 11\n"
     ]
    }
   ],
   "source": [
    "class_names = [f for f in os.listdir(\"dataset\") if not f.startswith('.')]\n",
    "n_classes = len(class_names)\n",
    "\n",
    "print(f\"Total No. of Classes : {n_classes}\")"
   ]
  },
  {
   "cell_type": "code",
   "execution_count": 4,
   "id": "deef4578",
   "metadata": {},
   "outputs": [
    {
     "data": {
      "text/plain": [
       "[377, 692, 639, 526, 1160, 475, 851, 591, 698, 232, 621]"
      ]
     },
     "execution_count": 4,
     "metadata": {},
     "output_type": "execute_result"
    }
   ],
   "source": [
    "class_dis = [len(os.listdir(\"dataset\" + \"/\" + name)) for name in class_names]\n",
    "class_dis"
   ]
  },
  {
   "cell_type": "code",
   "execution_count": 5,
   "id": "cb9a354d",
   "metadata": {},
   "outputs": [
    {
     "name": "stdout",
     "output_type": "stream",
     "text": [
      "Model: \"sequential\"\n",
      "_________________________________________________________________\n",
      "Layer (type)                 Output Shape              Param #   \n",
      "=================================================================\n",
      "resnet152v2 (Functional)     (None, 8, 8, 2048)        58331648  \n",
      "_________________________________________________________________\n",
      "global_average_pooling2d (Gl (None, 2048)              0         \n",
      "_________________________________________________________________\n",
      "dense (Dense)                (None, 256)               524544    \n",
      "_________________________________________________________________\n",
      "dropout (Dropout)            (None, 256)               0         \n",
      "_________________________________________________________________\n",
      "dense_1 (Dense)              (None, 128)               32896     \n",
      "_________________________________________________________________\n",
      "dropout_1 (Dropout)          (None, 128)               0         \n",
      "_________________________________________________________________\n",
      "dense_2 (Dense)              (None, 11)                1419      \n",
      "=================================================================\n",
      "Total params: 58,890,507\n",
      "Trainable params: 558,859\n",
      "Non-trainable params: 58,331,648\n",
      "_________________________________________________________________\n"
     ]
    }
   ],
   "source": [
    "import numpy as np\n",
    "import keras\n",
    "from keras.models import Sequential\n",
    "from keras.layers import Dense, Dropout, Flatten\n",
    "from keras.layers import Conv2D, MaxPooling2D\n",
    "from tensorflow.keras.utils import to_categorical\n",
    "import tensorflow as tf\n",
    "\n",
    "name = 'resnet2'\n",
    "# TL Model\n",
    "base_model = ResNet152V2(include_top=False, input_shape=(256,256,3))\n",
    "base_model.trainable = False\n",
    "\n",
    "# Model\n",
    "model = Sequential([\n",
    "    base_model,\n",
    "    GAP(),\n",
    "    Dense(256, activation='relu'),\n",
    "    Dropout(0.4),\n",
    "    Dense(128, activation='relu'),\n",
    "    Dropout(0.2),\n",
    "    Dense(n_classes, activation=\"softmax\")\n",
    "])\n",
    "\n",
    "# Compile\n",
    "model.compile(\n",
    "    loss='sparse_categorical_crossentropy',\n",
    "    optimizer='adam',\n",
    "    metrics=['accuracy']\n",
    ")\n",
    "\n",
    "# Callbacks\n",
    "cbs = [\n",
    "    EarlyStopping(patience=5, restore_best_weights=True),\n",
    "    ModelCheckpoint(name + \".h5\", save_best_only=True)\n",
    "]\n",
    "opt = tf.keras.optimizers.Adam(learning_rate=0.0015)\n",
    "model.compile(loss='categorical_crossentropy', optimizer=opt, metrics=['accuracy'])\n",
    "\n",
    "model.summary()\n",
    "\n",
    "\n",
    "\n"
   ]
  },
  {
   "cell_type": "markdown",
   "id": "d9f9aa84",
   "metadata": {},
   "source": [
    "## Train the model\n"
   ]
  },
  {
   "cell_type": "code",
   "execution_count": 6,
   "id": "9f31bc38",
   "metadata": {
    "scrolled": true
   },
   "outputs": [
    {
     "name": "stdout",
     "output_type": "stream",
     "text": [
      "Epoch 1/20\n",
      "172/172 [==============================] - 700s 4s/step - loss: 0.9391 - accuracy: 0.6892 - val_loss: 0.4895 - val_accuracy: 0.8386\n"
     ]
    },
    {
     "name": "stderr",
     "output_type": "stream",
     "text": [
      "/people/home/mshaaban/venv/lib64/python3.6/site-packages/keras/utils/generic_utils.py:497: CustomMaskWarning: Custom mask layers require a config and must override get_config. When loading, the custom mask layer must be passed to the custom_objects argument.\n",
      "  category=CustomMaskWarning)\n"
     ]
    },
    {
     "name": "stdout",
     "output_type": "stream",
     "text": [
      "Epoch 2/20\n",
      "172/172 [==============================] - 691s 4s/step - loss: 0.5608 - accuracy: 0.8103 - val_loss: 0.4711 - val_accuracy: 0.8466\n",
      "Epoch 3/20\n",
      "172/172 [==============================] - 690s 4s/step - loss: 0.4918 - accuracy: 0.8349 - val_loss: 0.4547 - val_accuracy: 0.8466\n",
      "Epoch 4/20\n",
      "172/172 [==============================] - 692s 4s/step - loss: 0.4404 - accuracy: 0.8545 - val_loss: 0.4496 - val_accuracy: 0.8554\n",
      "Epoch 5/20\n",
      "172/172 [==============================] - 690s 4s/step - loss: 0.4028 - accuracy: 0.8662 - val_loss: 0.4412 - val_accuracy: 0.8510\n",
      "Epoch 6/20\n",
      "172/172 [==============================] - 691s 4s/step - loss: 0.3974 - accuracy: 0.8626 - val_loss: 0.4336 - val_accuracy: 0.8641\n",
      "Epoch 7/20\n",
      "172/172 [==============================] - 693s 4s/step - loss: 0.3481 - accuracy: 0.8777 - val_loss: 0.4571 - val_accuracy: 0.8451\n",
      "Epoch 8/20\n",
      "172/172 [==============================] - 692s 4s/step - loss: 0.3334 - accuracy: 0.8884 - val_loss: 0.4431 - val_accuracy: 0.8524\n",
      "Epoch 9/20\n",
      "172/172 [==============================] - 693s 4s/step - loss: 0.3223 - accuracy: 0.8855 - val_loss: 0.5014 - val_accuracy: 0.8451\n",
      "Epoch 10/20\n",
      "172/172 [==============================] - 692s 4s/step - loss: 0.3164 - accuracy: 0.8926 - val_loss: 0.4477 - val_accuracy: 0.8539\n",
      "Epoch 11/20\n",
      "172/172 [==============================] - 695s 4s/step - loss: 0.3211 - accuracy: 0.8920 - val_loss: 0.4582 - val_accuracy: 0.8554\n"
     ]
    }
   ],
   "source": [
    "history = model.fit(train_ds, epochs=20, callbacks=cbs, validation_data=valid_ds)"
   ]
  },
  {
   "cell_type": "code",
   "execution_count": 7,
   "id": "e067c83e",
   "metadata": {},
   "outputs": [],
   "source": [
    "import matplotlib.pyplot as plt\n",
    "acc = history.history['accuracy']\n",
    "val_acc = history.history['val_accuracy']\n",
    "loss = history.history['loss']\n",
    "val_loss = history.history['val_loss']"
   ]
  },
  {
   "cell_type": "code",
   "execution_count": 8,
   "id": "031a8b30",
   "metadata": {},
   "outputs": [],
   "source": [
    "epochs = range(1, len(acc) + 1)"
   ]
  },
  {
   "cell_type": "code",
   "execution_count": 9,
   "id": "40536c6e",
   "metadata": {},
   "outputs": [
    {
     "data": {
      "text/plain": [
       "<Figure size 432x288 with 0 Axes>"
      ]
     },
     "execution_count": 9,
     "metadata": {},
     "output_type": "execute_result"
    },
    {
     "data": {
      "image/png": "[encoded data removed]",
      "text/plain": [
       "<Figure size 432x288 with 1 Axes>"
      ]
     },
     "metadata": {
      "needs_background": "light"
     },
     "output_type": "display_data"
    },
    {
     "data": {
      "text/plain": [
       "<Figure size 432x288 with 0 Axes>"
      ]
     },
     "metadata": {},
     "output_type": "display_data"
    }
   ],
   "source": [
    "plt.plot(epochs, acc, 'bo',label='Training acc')\n",
    "plt.plot(epochs, val_acc, 'r', label='Validation acc')\n",
    "plt.title('Training and validation accuracy')\n",
    "plt.legend()\n",
    "plt.figure()"
   ]
  },
  {
   "cell_type": "code",
   "execution_count": 10,
   "id": "b77122d3",
   "metadata": {},
   "outputs": [
    {
     "data": {
      "image/png": "[encoded data removed]",
      "text/plain": [
       "<Figure size 432x288 with 1 Axes>"
      ]
     },
     "metadata": {
      "needs_background": "light"
     },
     "output_type": "display_data"
    }
   ],
   "source": [
    "plt.plot(epochs, loss, 'bo', label='Training loss')\n",
    "plt.plot(epochs, val_loss, 'r', label='Validation loss')\n",
    "plt.title('Training and validation loss')\n",
    "plt.legend()\n",
    "plt.show()"
   ]
  }
 ],
 "metadata": {
  "kernelspec": {
   "display_name": "Python 3",
   "language": "python",
   "name": "python3"
  },
  "language_info": {
   "codemirror_mode": {
    "name": "ipython",
    "version": 3
   },
   "file_extension": ".py",
   "mimetype": "text/x-python",
   "name": "python",
   "nbconvert_exporter": "python",
   "pygments_lexer": "ipython3",
   "version": "3.6.13"
  }
 },
 "nbformat": 4,
 "nbformat_minor": 5
}
